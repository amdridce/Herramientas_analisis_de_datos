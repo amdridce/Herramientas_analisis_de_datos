{
  "cells": [
    {
      "cell_type": "markdown",
      "metadata": {
        "colab_type": "text",
        "id": "view-in-github"
      },
      "source": [
        "<a href=\"https://colab.research.google.com/github/amdridce/Herramientas_analisis_de_datos/blob/main/Clases_Python.ipynb\" target=\"_parent\"><img src=\"https://colab.research.google.com/assets/colab-badge.svg\" alt=\"Open In Colab\"/></a>"
      ]
    },
    {
      "cell_type": "code",
      "execution_count": 12,
      "metadata": {
        "colab": {
          "base_uri": "https://localhost:8080/"
        },
        "id": "o4pM2eKboecr",
        "outputId": "27ea2146-1afe-4fe4-84e4-223ea1a56fcb"
      },
      "outputs": [
        {
          "name": "stdout",
          "output_type": "stream",
          "text": [
            "5\n",
            "<class 'int'>\n",
            "Bienvenidos a clase\n",
            "<class 'str'>\n",
            "<class 'bool'>\n"
          ]
        }
      ],
      "source": [
        "numero = 5\n",
        "print(numero)\n",
        "print(type(numero))\n",
        "texto = \"Bienvenidos a clase\"\n",
        "print(texto)\n",
        "print(type(texto))\n",
        "boolean = True or False\n",
        "print(type(boolean))"
      ]
    },
    {
      "cell_type": "code",
      "execution_count": 13,
      "metadata": {
        "colab": {
          "base_uri": "https://localhost:8080/"
        },
        "id": "5VrUbuTtv1Wv",
        "outputId": "6dbcc573-ab28-45ab-b528-aca9287943e0"
      },
      "outputs": [
        {
          "name": "stdout",
          "output_type": "stream",
          "text": [
            "x es menor que y\n"
          ]
        }
      ],
      "source": [
        "# Condicional if\n",
        "\n",
        "x = 1\n",
        "y = 847\n",
        "if x > y :\n",
        "  print(\"x es mayor o igual que y\")\n",
        "elif x == y :\n",
        "    print(\"x es igual que y\")\n",
        "elif x < y :\n",
        "  print(\"x es menor que y\")"
      ]
    },
    {
      "cell_type": "code",
      "execution_count": 14,
      "metadata": {
        "colab": {
          "base_uri": "https://localhost:8080/"
        },
        "id": "48JgojxEyUPj",
        "outputId": "64fcf658-7581-41f4-8056-c2606bd41797"
      },
      "outputs": [
        {
          "name": "stdout",
          "output_type": "stream",
          "text": [
            "##### lista_vacia #####\n",
            "[]\n",
            "##### lista_texto #####\n",
            "['leopardo', 'camello', 'cocodrilo', 'león']\n",
            "leopardo\n",
            "##### lista_numero #####\n",
            "[4, 6, 3, 8]\n",
            "6\n",
            "##### lista_boolean #####\n",
            "[True, False, True, True]\n",
            "True\n",
            "##### largo de una lista #####\n",
            "4\n",
            "4\n",
            "4\n",
            "##### lista_vacia #####\n",
            "['me gusta python', 'lento pero seguro']\n",
            "2\n",
            "['lento pero seguro', 'me gusta python']\n"
          ]
        }
      ],
      "source": [
        "# List/Array\n",
        "print(\"##### lista_vacia #####\")\n",
        "lista_vacia = []\n",
        "print(lista_vacia)\n",
        "\n",
        "print(\"##### lista_texto #####\")\n",
        "lista_texto = [\"leopardo\",\"camello\", \"cocodrilo\", \"león\"]\n",
        "print(lista_texto)\n",
        "print(lista_texto[0])\n",
        "\n",
        "print(\"##### lista_numero #####\")\n",
        "lista_numero = [4, 6, 3, 8]\n",
        "print(lista_numero)\n",
        "print(lista_numero[1])\n",
        "\n",
        "print(\"##### lista_boolean #####\")\n",
        "lista_boolean = [True, False, True, True]\n",
        "print(lista_boolean)\n",
        "print(lista_boolean[2])\n",
        "\n",
        "print(\"##### largo de una lista #####\")\n",
        "print(len(lista_texto))\n",
        "print(len(lista_numero))\n",
        "print(len(lista_boolean))\n",
        "\n",
        "# Agregando datos a una lista\n",
        "print(\"##### lista_vacia #####\")\n",
        "lista_vacia.append(\"me gusta python\")\n",
        "lista_vacia.append(\"lento pero seguro\")\n",
        "print(lista_vacia)\n",
        "print(len(lista_vacia))\n",
        "lista_vacia.sort()\n",
        "print(lista_vacia)"
      ]
    },
    {
      "cell_type": "code",
      "execution_count": 15,
      "metadata": {},
      "outputs": [
        {
          "name": "stdout",
          "output_type": "stream",
          "text": [
            "Antes del time\n",
            "Despues de 3.5 segundos.\n"
          ]
        }
      ],
      "source": [
        "import time\n",
        "print(\"Antes del time\") \n",
        "time.sleep(3.5) \n",
        "print(\"Despues de 3.5 segundos.\")\n"
      ]
    },
    {
      "cell_type": "code",
      "execution_count": 16,
      "metadata": {},
      "outputs": [
        {
          "name": "stdout",
          "output_type": "stream",
          "text": [
            "2022-06-12 23:44:01.872857\n"
          ]
        }
      ],
      "source": [
        "import datetime\n",
        "\n",
        "tiempo_ahora = datetime.datetime.now()\n",
        "print(tiempo_ahora)"
      ]
    },
    {
      "cell_type": "code",
      "execution_count": 17,
      "metadata": {},
      "outputs": [
        {
          "name": "stdout",
          "output_type": "stream",
          "text": [
            "hora ejecución antes del time.sleep: 2022-06-12 23:44:11.797203\n",
            "hora ejecución después del time.sleep: 2022-06-12 23:44:16.798558\n"
          ]
        }
      ],
      "source": [
        "# Importamos toda la librería datetime\n",
        "\n",
        "ahora = datetime.datetime.now()\n",
        "print(\"hora ejecución antes del time.sleep: {}\".format(ahora))\n",
        "time.sleep(5)\n",
        "ahora = datetime.datetime.now()\n",
        "print(\"hora ejecución después del time.sleep: {}\".format(ahora))"
      ]
    },
    {
      "cell_type": "code",
      "execution_count": 25,
      "metadata": {},
      "outputs": [
        {
          "name": "stdout",
          "output_type": "stream",
          "text": [
            "hora ejecución antes del time.sleep: 2022-06-13 00:06:28.390428\n",
            "hora ejecución después del time.sleep: 2022-06-13 00:06:33.405437\n"
          ]
        }
      ],
      "source": [
        "# Importamos solo la función datetime de la librería datetime\n",
        "\n",
        "from datetime import datetime as dt\n",
        "\n",
        "ahora = dt.now()\n",
        "print(\"hora ejecución antes del time.sleep: {}\".format(ahora))\n",
        "time.sleep(5)\n",
        "ahora = dt.now()\n",
        "print(\"hora ejecución después del time.sleep: {}\".format(ahora))"
      ]
    },
    {
      "cell_type": "code",
      "execution_count": 31,
      "metadata": {},
      "outputs": [
        {
          "name": "stdout",
          "output_type": "stream",
          "text": [
            "######### Hora ejecución antes del for: 00:11:50\n",
            "leopardo\n",
            "Espera . . .\n",
            "camello\n",
            "Espera . . .\n",
            "cocodrilo\n",
            "Espera . . .\n",
            "león\n",
            "Espera . . .\n",
            "########## Hora ejecución después del for: 00:11:50\n",
            "########## Tiempo de ejecución: 0:00:04.022199\n"
          ]
        }
      ],
      "source": [
        "# Iteraciones con for loop \n",
        "\n",
        "ahora = dt.now()\n",
        "print(\"######### Hora ejecución antes del for: {}\".format(ahora.strftime(\"%H:%M:%S\")))\n",
        "for elemento in lista_texto:\n",
        "    print(elemento)\n",
        "    print(\"Espera . . .\")\n",
        "    time.sleep(1)\n",
        "\n",
        "final = dt.now()\n",
        "print(\"########## Hora ejecución después del for: {}\".format(ahora.strftime(\"%H:%M:%S\")))\n",
        "print(\"########## Tiempo de ejecución: {}\".format(final - ahora))"
      ]
    },
    {
      "cell_type": "code",
      "execution_count": 32,
      "metadata": {},
      "outputs": [
        {
          "name": "stdout",
          "output_type": "stream",
          "text": [
            "######### Hora ejecución antes del for: 00:14:18\n",
            "4\n",
            "Espera . . .\n",
            "6\n",
            "Espera . . .\n",
            "3\n",
            "Espera . . .\n",
            "8\n",
            "Espera . . .\n",
            "########## Hora ejecución después del for: 00:14:18\n",
            "########## Tiempo de ejecución: 0:00:04.028404\n"
          ]
        }
      ],
      "source": [
        "ahora = dt.now()\n",
        "print(\"######### Hora ejecución antes del for: {}\".format(ahora.strftime(\"%H:%M:%S\")))\n",
        "for numero in lista_numero:\n",
        "    print(numero)\n",
        "    print(\"Espera . . .\")\n",
        "    time.sleep(1)\n",
        "\n",
        "final = dt.now()\n",
        "print(\"########## Hora ejecución después del for: {}\".format(ahora.strftime(\"%H:%M:%S\")))\n",
        "print(\"########## Tiempo de ejecución: {}\".format(final - ahora))"
      ]
    }
  ],
  "metadata": {
    "colab": {
      "authorship_tag": "ABX9TyO8GTn+CCLPVEmmKJ5fbp0j",
      "collapsed_sections": [],
      "include_colab_link": true,
      "name": "Untitled1.ipynb",
      "provenance": []
    },
    "interpreter": {
      "hash": "d477a38152fc8863730c346f28c0713e2daec14d99f138411f6e39d9091cd35a"
    },
    "kernelspec": {
      "display_name": "Python 3.10.4 64-bit",
      "language": "python",
      "name": "python3"
    },
    "language_info": {
      "codemirror_mode": {
        "name": "ipython",
        "version": 3
      },
      "file_extension": ".py",
      "mimetype": "text/x-python",
      "name": "python",
      "nbconvert_exporter": "python",
      "pygments_lexer": "ipython3",
      "version": "3.10.4"
    }
  },
  "nbformat": 4,
  "nbformat_minor": 0
}
