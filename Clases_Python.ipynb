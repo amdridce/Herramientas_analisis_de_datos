{
  "nbformat": 4,
  "nbformat_minor": 0,
  "metadata": {
    "colab": {
      "name": "Untitled1.ipynb",
      "provenance": [],
      "collapsed_sections": [],
      "authorship_tag": "ABX9TyO8GTn+CCLPVEmmKJ5fbp0j",
      "include_colab_link": true
    },
    "kernelspec": {
      "name": "python3",
      "display_name": "Python 3"
    },
    "language_info": {
      "name": "python"
    }
  },
  "cells": [
    {
      "cell_type": "markdown",
      "metadata": {
        "id": "view-in-github",
        "colab_type": "text"
      },
      "source": [
        "<a href=\"https://colab.research.google.com/github/amdridce/Herramientas_analisis_de_datos/blob/main/Clases_Python.ipynb\" target=\"_parent\"><img src=\"https://colab.research.google.com/assets/colab-badge.svg\" alt=\"Open In Colab\"/></a>"
      ]
    },
    {
      "cell_type": "code",
      "execution_count": 5,
      "metadata": {
        "colab": {
          "base_uri": "https://localhost:8080/"
        },
        "id": "o4pM2eKboecr",
        "outputId": "27ea2146-1afe-4fe4-84e4-223ea1a56fcb"
      },
      "outputs": [
        {
          "output_type": "stream",
          "name": "stdout",
          "text": [
            "5\n",
            "<class 'int'>\n",
            "Bienvenidos a clase\n",
            "<class 'str'>\n",
            "<class 'bool'>\n"
          ]
        }
      ],
      "source": [
        "numero = 5\n",
        "print(numero)\n",
        "print(type(numero))\n",
        "texto = \"Bienvenidos a clase\"\n",
        "print(texto)\n",
        "print(type(texto))\n",
        "boolean = True or False\n",
        "print(type(boolean))"
      ]
    },
    {
      "cell_type": "code",
      "source": [
        "# Condicional if\n",
        "\n",
        "x = 1\n",
        "y = 847\n",
        "if x > y :\n",
        "  print(\"x es mayor o igual que y\")\n",
        "elif x == y :\n",
        "    print(\"x es igual que y\")\n",
        "elif x < y :\n",
        "  print(\"x es menor que y\")"
      ],
      "metadata": {
        "colab": {
          "base_uri": "https://localhost:8080/"
        },
        "id": "5VrUbuTtv1Wv",
        "outputId": "6dbcc573-ab28-45ab-b528-aca9287943e0"
      },
      "execution_count": 14,
      "outputs": [
        {
          "output_type": "stream",
          "name": "stdout",
          "text": [
            "x es menor que y\n"
          ]
        }
      ]
    },
    {
      "cell_type": "code",
      "source": [
        "# List/Array\n",
        "print(\"##### lista_vacia #####\")\n",
        "lista_vacia = []\n",
        "print(lista_vacia)\n",
        "\n",
        "print(\"##### lista_texto #####\")\n",
        "lista_texto = [\"leopardo\",\"camello\", \"cocodrilo\", \"león\"]\n",
        "print(lista_texto)\n",
        "print(lista_texto[0])\n",
        "\n",
        "print(\"##### lista_numero #####\")\n",
        "lista_numero = [4, 6, 3, 8]\n",
        "print(lista_numero)\n",
        "print(lista_numero[1])\n",
        "\n",
        "print(\"##### lista_boolean #####\")\n",
        "lista_boolean = [True, False, True, True]\n",
        "print(lista_boolean)\n",
        "print(lista_boolean[2])\n",
        "\n",
        "print(\"##### largo de una lista #####\")\n",
        "print(len(lista_texto))\n",
        "print(len(lista_numero))\n",
        "print(len(lista_boolean))\n",
        "\n",
        "# Agregando datos a una lista\n",
        "print(\"##### lista_vacia #####\")\n",
        "lista_vacia.append(\"me gusta python\")\n",
        "lista_vacia.append(\"lento pero seguro\")\n",
        "print(lista_vacia)\n",
        "print(len(lista_vacia))"
      ],
      "metadata": {
        "colab": {
          "base_uri": "https://localhost:8080/"
        },
        "id": "48JgojxEyUPj",
        "outputId": "64fcf658-7581-41f4-8056-c2606bd41797"
      },
      "execution_count": 32,
      "outputs": [
        {
          "output_type": "stream",
          "name": "stdout",
          "text": [
            "##### lista_vacia #####\n",
            "[]\n",
            "##### lista_texto #####\n",
            "['leopardo', 'camello', 'cocodrilo', 'león']\n",
            "leopardo\n",
            "##### lista_numero #####\n",
            "[4, 6, 3, 8]\n",
            "6\n",
            "##### lista_boolean #####\n",
            "[True, False, True, True]\n",
            "True\n",
            "##### largo de una lista #####\n",
            "4\n",
            "4\n",
            "4\n",
            "##### lista_vacia #####\n",
            "['me gusta python', 'lento pero seguro']\n",
            "2\n"
          ]
        }
      ]
    }
  ]
}